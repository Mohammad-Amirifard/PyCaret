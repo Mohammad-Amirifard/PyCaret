{
 "cells": [
  {
   "cell_type": "markdown",
   "metadata": {
    "id": "E3n8sD6PUyji"
   },
   "source": [
    "<div align='center'><font size=\"7\" color=\"#FF0000\"><strong>AutoML</strong></font></div>\n",
    "<hr>\n",
    "<div align='left'><font size=\"3\" color=\"#000000\">  Machine learning is an application of artificial intelligence(AI) that provides systems the ability to automatically learn and improve from experience without being explicitly programmed. In machine learning supervised and unsupervised learning are the 2 major techniques.Supervised machine learning algorithms can apply what has been learned in the past to new data using labeled examples to predict future events where as unsupervised machine learning algorithms are used when the information used to train is neither classified nor labeled.</font></div>\n",
    "> <img style=\"float: centre;\" src=\"https://analyticsindiamag.com/wp-content/uploads/2018/01/data-cleaning.png\" width=\"450px\"/>\n",
    "\n",
    "<div align='left'><font size=\"3\" color=\"#000000\"> When applying machine learning models, we’d usually do data pre-processing,feature engineering,feature extraction and, feature selection. After this, we’d select the best algorithm and tune our parameters in order to obtain the best results.In order to reduce this burden AutoML Or Automatic machine learning tools are introduced. The main benefit of these tool is it reduce the burden of data cleaning, preprocessing. There are many AutoML packages(automl,AutoViML,PyCaret) available in python. Apart from this there are many automated visualization tools avaialble (sweetviz,AutoViz) which helps to understand the overview of the dataset. Below links are examples for automated visualization tools. </font></div>\n",
    "<hr>\n",
    "<div align='left'><font size=\"3\"><a href=\"https://www.kaggle.com/nareshbhat/data-visualization-in-just-one-line-of-code\" target=\"_blank\">1.EDA in just two lines of code</a></div>\n",
    "<div align='left'><font size=\"3\"><a href=\"https://www.kaggle.com/nareshbhat/eda-in-just-two-lines-of-code\" target=\"_blank\">2. Data visualization in just one line of code</a></div>\n",
    "<hr>   \n",
    "<div class=\"alert alert-info\" ><font size=\"4\"><strong>This kernel organized regression, classification, clustering and NLP at one platform with few lines of code using pycaret package</strong> </div>    \n",
    "<hr>\n",
    "<div align='left'><font size=\"6\" color=\"#FF0000\"><strong>About PyCaret</strong></font></div>\n",
    "<hr>\n",
    "> <img style=\"float: centre;\" src=\"https://encrypted-tbn0.gstatic.com/images?q=tbn:ANd9GcTOW3zspRu7Zyg3Xgbu34SZ4sSuS6tp9dvn8YLtsGG20QdW4tU&s\" width=\"400px\"/>\n",
    "\n",
    "<div align='left'><font size=\"3\" color=\"#000000\"> PyCaret is an open source,customize, low-code Auto ML library in Python that aims to reduce the cycle time from hypothesis to insights and make data scientists more productive in their experiments and allows them to reach conclusions faster due to far less time spent in coding. PyCaret is essentially a Python wrapper around several machine learning libraries and frameworks such as scikit-learn,XGBoost, Microsoft LightGBM, spaCy and many more.Through the use of PyCaret, the amount of time spent in coding experiments reduce drastically. </font></div>\n",
    "<hr>\n",
    "<div align='left'><font size=\"3\" color=\"#000000\"> PyCaret contains modules for some of the Machine learning task given below.</font></div>\n",
    "<div align='left'><font size=\"3\" color=\"#000000\"> 1. Classification</font></div>\n",
    "<div align='left'><font size=\"3\" color=\"#000000\"> 2. Regression</font></div>\n",
    "<div align='left'><font size=\"3\" color=\"#000000\"> 3. Clustering</font></div>\n",
    "<div align='left'><font size=\"3\" color=\"#000000\"> 4. Anomaly Detection</font></div>\n",
    "<div align='left'><font size=\"3\" color=\"#000000\"> 5. Natural Language Processing</font></div>\n",
    "<div align='left'><font size=\"3\" color=\"#000000\"> 6. Association Rule Mining</font></div>\n",
    "<hr>\n",
    "<div align='left'><font size=\"3\" color=\"#000000\"> Unique Features</font></div>\n",
    "\n",
    "> <img style=\"float: centre;\" src=\"https://miro.medium.com/max/875/1*jo9vPsQhQZmyXUhnrt9akQ.png\" width=\"600px\"/>\n",
    "  \n",
    "<hr>\n",
    "<div align='left'><font size=\"3\" color=\"#000000\"> PyCaret contains modules for some of the Machine learning task given below.</font></div>\n",
    "<div align='left'><font size=\"3\" color=\"#000000\"> 1. Imputing missing values.</font></div>\n",
    "<div align='left'><font size=\"3\" color=\"#000000\"> 2. Encode the categorical data.</font></div>\n",
    "<div align='left'><font size=\"3\" color=\"#000000\"> 3. Feature engineering.</font></div>\n",
    "<div align='left'><font size=\"3\" color=\"#000000\"> 4. Hyperparameter tuning.</font></div>\n",
    "<div align='left'><font size=\"3\" color=\"#000000\"> 5. Ensemble the models.</font></div>\n",
    "<div align='left'><font size=\"3\" color=\"#000000\"> 6. Explainability/Interpretation.</font></div>\n",
    "<div align='left'><font size=\"3\" color=\"#000000\"> 7. Perform end-to-end machine learning(Classification,Clustering,Regression).</font></div>\n",
    "<hr>\n",
    "\n",
    "<div align='left'><font size=\"3\"><a href=\"https://pycaret.org\" target=\"_blank\"> website and documentation of this Package</a></div>\n",
    "<hr>\n",
    "<div align='left'><font size=\"6\" color=\"#FF0000\">Installing PyCaret Package</font></div>\n",
    "<hr>\n",
    "  \n",
    "    \n",
    "\n",
    "    "
   ]
  },
  {
   "cell_type": "code",
   "execution_count": null,
   "metadata": {
    "id": "CZW7DZBDUykE"
   },
   "outputs": [],
   "source": [
    "!pip install pycaret[full]"
   ]
  },
  {
   "cell_type": "code",
   "execution_count": null,
   "metadata": {
    "id": "UTDfV6XJPQRt"
   },
   "outputs": [],
   "source": [
    "import jinja2"
   ]
  },
  {
   "cell_type": "code",
   "execution_count": null,
   "metadata": {
    "id": "7fIMdUz4QOf4"
   },
   "outputs": [],
   "source": [
    "!pip install markupsafe==2.0.1"
   ]
  },
  {
   "cell_type": "code",
   "execution_count": null,
   "metadata": {
    "id": "sCk4UEUCP2Pb"
   },
   "outputs": [],
   "source": [
    "import pycaret"
   ]
  },
  {
   "cell_type": "markdown",
   "metadata": {
    "id": "qtA9g3Q4UykM"
   },
   "source": [
    "<div align='left'><font size=\"6\" color=\"#FF0000\">This Notebook is organized as follows:</font></div>\n",
    "\n",
    "* [<div align='left'><font size=\"4\" color=\"#1E90FF\">1. Regression</font></div>](#imports)\n",
    "    * <div align='left'><font size=\"3.5\" color=\"#1E90FF\">1.1 Setup the model</font></div>\n",
    "    * <div align='left'><font size=\"3.5\" color=\"#1E90FF\">1.2 Compare the model</font></div>\n",
    "    * <div align='left'><font size=\"3.5\" color=\"#1E90FF\">1.3 Create model</font></div>\n",
    "    * <div align='left'><font size=\"3.5\" color=\"#1E90FF\">1.4 Interpretation</font></div>\n",
    "    * <div align='left'><font size=\"3.5\" color=\"#1E90FF\">1.5 Ensembling</font></div> \n",
    "        <div align='left'><font size=\"3\" color=\"#1E90FF\">* 1.5.1 stacking</font></div>\n",
    "- [<div align='left'><font size=\"4\" color=\"#1E90FF\">2. Classification</font></div>](#imports)\n",
    "    * <div align='left'><font size=\"3.5\" color=\"#1E90FF\">2.1 Setup the model</font></div>\n",
    "    * <div align='left'><font size=\"3.5\" color=\"#1E90FF\">2.2 Compare the model</font></div>\n",
    "    * <div align='left'><font size=\"3.5\" color=\"#1E90FF\">2.3 Create model</font></div>\n",
    "    * <div align='left'><font size=\"3.5\" color=\"#1E90FF\">2.4 Interpretation</font></div>\n",
    "    * <div align='left'><font size=\"3.5\" color=\"#1E90FF\">2.5 Ensembling</font></div> \n",
    "        <div align='left'><font size=\"3\" color=\"#1E90FF\">* 2.5.1 blending</font></div>\n",
    "    * <div align='left'><font size=\"3.5\" color=\"#1E90FF\">2.6 Model Evaluation</font></div>            \n",
    "- [<div align='left'><font size=\"4\" color=\"#1E90FF\">3. Clustering</font></div>](#imports)\n",
    "    * <div align='left'><font size=\"3.5\" color=\"#1E90FF\">3.1 Setup the model</font></div>\n",
    "    * <div align='left'><font size=\"3.5\" color=\"#1E90FF\">3.2 Create model</font></div>\n",
    "        <div align='left'><font size=\"3\" color=\"#1E90FF\">* 3.2.1 K-mean Clustering</font></div>\n",
    "        <div align='left'><font size=\"3\" color=\"#1E90FF\">* 3.2.2 Hierarchical Clustering</font></div>   \n",
    "    * <div align='left'><font size=\"3.5\" color=\"#1E90FF\">3.3 Plot model</font></div>\n",
    "    * <div align='left'><font size=\"3.5\" color=\"#1E90FF\">3.4 Assign model</font></div>\n",
    "- [<div align='left'><font size=\"4\" color=\"#1E90FF\">4.Natural Language Processing</font></div>](#imports)\n",
    "    * <div align='left'><font size=\"3.5\" color=\"#1E90FF\">4.1 Converting the text data</font></div>\n",
    "    * <div align='left'><font size=\"3.5\" color=\"#1E90FF\">4.2 Setup the model</font></div>\n",
    "        <div align='left'><font size=\"3\" color=\"#1E90FF\">4.3 Compare the model</font></div>\n",
    "- [<div align='left'><font size=\"4\" color=\"#1E90FF\">5. Conclusion</font></div>](#imports)"
   ]
  },
  {
   "cell_type": "markdown",
   "metadata": {
    "id": "CMiRLdBgUykV"
   },
   "source": [
    "#1.Regression\n",
    "> <img style=\"float: centre;\" src=\"https://miro.medium.com/max/1024/1*Juv1bpp5--0Fl8cA4EmTPw.jpeg\" width=\"450px\"/>"
   ]
  },
  {
   "cell_type": "code",
   "execution_count": null,
   "metadata": {
    "id": "F_nqvhebUyka"
   },
   "outputs": [],
   "source": [
    "from pycaret.regression import *\n",
    "import pandas as pd"
   ]
  },
  {
   "cell_type": "code",
   "execution_count": null,
   "metadata": {
    "id": "5SwEjwOoy5tK"
   },
   "outputs": [],
   "source": [
    "from pycaret.datasets import get_data \n",
    "boston = get_data('boston')"
   ]
  },
  {
   "cell_type": "markdown",
   "metadata": {
    "id": "RKL1nR07Uyko"
   },
   "source": [
    "<div align='left'><font size=\"5\" color=\"#FF0000\">Setup the model</font></div>\n",
    "<hr>"
   ]
  },
  {
   "cell_type": "code",
   "execution_count": null,
   "metadata": {
    "colab": {
     "base_uri": "https://localhost:8080/"
    },
    "id": "uzmRBbA1OM8O",
    "outputId": "53d51b3d-bc10-40b8-b4c2-22071efee86e"
   },
   "outputs": [
    {
     "data": {
      "text/plain": [
       "pandas.core.frame.DataFrame"
      ]
     },
     "execution_count": 7,
     "metadata": {},
     "output_type": "execute_result"
    }
   ],
   "source": [
    "type(boston)"
   ]
  },
  {
   "cell_type": "code",
   "execution_count": null,
   "metadata": {
    "id": "6ZcfCgYXTE0Q"
   },
   "outputs": [],
   "source": [
    "boston"
   ]
  },
  {
   "cell_type": "code",
   "execution_count": null,
   "metadata": {
    "id": "6R-FD-8AUyks"
   },
   "outputs": [],
   "source": [
    "setup(data = boston,target = 'medv',session_id = 123)"
   ]
  },
  {
   "cell_type": "markdown",
   "metadata": {
    "id": "dqeWOoZqUykx"
   },
   "source": [
    "<div align='left'><font size=\"5\" color=\"#FF0000\">Compare Model</font></div>\n",
    "<hr>"
   ]
  },
  {
   "cell_type": "code",
   "execution_count": null,
   "metadata": {
    "id": "AZ6UMN3UUyk3"
   },
   "outputs": [],
   "source": [
    "best = compare_models() "
   ]
  },
  {
   "cell_type": "markdown",
   "metadata": {
    "id": "_wLo72J5Uyk9"
   },
   "source": [
    "<div align='left'><font size=\"5\" color=\"#FF0000\">Create Model</font></div>\n",
    "<hr>"
   ]
  },
  {
   "cell_type": "code",
   "execution_count": null,
   "metadata": {
    "id": "ehO5MDt0UylH"
   },
   "outputs": [],
   "source": [
    " rf = create_model('rf')"
   ]
  },
  {
   "cell_type": "code",
   "execution_count": null,
   "metadata": {
    "id": "zrBn1FRYens4"
   },
   "outputs": [],
   "source": [
    "print(rf)"
   ]
  },
  {
   "cell_type": "code",
   "execution_count": null,
   "metadata": {
    "id": "QfWBjKJLwlYU"
   },
   "outputs": [],
   "source": [
    "plot_model(rf)"
   ]
  },
  {
   "cell_type": "code",
   "execution_count": null,
   "metadata": {
    "id": "aCsYzdSAxypv"
   },
   "outputs": [],
   "source": [
    "evaluate_model(rf)"
   ]
  },
  {
   "cell_type": "code",
   "execution_count": null,
   "metadata": {
    "id": "3sIMhd2cz3Q-"
   },
   "outputs": [],
   "source": [
    "save_model(rf, 'MyRFModel')"
   ]
  },
  {
   "cell_type": "code",
   "execution_count": null,
   "metadata": {
    "id": "4UyFPfMiz83u"
   },
   "outputs": [],
   "source": [
    "loaded_model = load_model('MyRFModel')"
   ]
  },
  {
   "cell_type": "code",
   "execution_count": null,
   "metadata": {
    "id": "rcIkp4MBgh8Y"
   },
   "outputs": [],
   "source": [
    "print(loaded_model)"
   ]
  },
  {
   "cell_type": "code",
   "execution_count": null,
   "metadata": {
    "id": "rlp5l28NUylP"
   },
   "outputs": [],
   "source": [
    "predict_model(rf)"
   ]
  },
  {
   "cell_type": "code",
   "execution_count": null,
   "metadata": {
    "id": "QLoqkRnnzdpG"
   },
   "outputs": [],
   "source": [
    "models()"
   ]
  },
  {
   "cell_type": "code",
   "execution_count": null,
   "metadata": {
    "id": "Z5Pb2waEzlJ5"
   },
   "outputs": [],
   "source": [
    "# train a decision tree model with default parameters\n",
    "dt = create_model('dt')\n",
    "# tune hyperparameters of decision tree\n",
    "tuned_dt = tune_model(dt)"
   ]
  },
  {
   "cell_type": "code",
   "execution_count": null,
   "metadata": {
    "id": "kQkMuGIq0H_r"
   },
   "outputs": [],
   "source": [
    "best = automl()"
   ]
  },
  {
   "cell_type": "code",
   "execution_count": null,
   "metadata": {
    "id": "8W4B5Ndt7Lco"
   },
   "outputs": [],
   "source": [
    "best"
   ]
  },
  {
   "cell_type": "code",
   "execution_count": null,
   "metadata": {
    "colab": {
     "background_save": true
    },
    "id": "FfGpo0QvjMW_"
   },
   "outputs": [],
   "source": [
    "eda()"
   ]
  },
  {
   "cell_type": "code",
   "execution_count": null,
   "metadata": {
    "id": "1iG11sDZig4t"
   },
   "outputs": [],
   "source": [
    "dashboard(rf)"
   ]
  },
  {
   "cell_type": "markdown",
   "metadata": {
    "id": "aJJN8n4a72yT"
   },
   "source": [
    "#2.Classification"
   ]
  },
  {
   "cell_type": "code",
   "execution_count": null,
   "metadata": {
    "id": "npgL7tGNUyla"
   },
   "outputs": [],
   "source": [
    "import pandas as pd \n",
    "from pycaret.classification import *"
   ]
  },
  {
   "cell_type": "code",
   "execution_count": null,
   "metadata": {
    "id": "nItdZMf20ykS"
   },
   "outputs": [],
   "source": [
    "from pycaret.datasets import get_data \n",
    "juice = get_data('juice') "
   ]
  },
  {
   "cell_type": "markdown",
   "metadata": {
    "id": "IYCjjAJ7Uylu"
   },
   "source": [
    "<div align='left'><font size=\"5\" color=\"#FF0000\">Setup the model</font></div>\n",
    "<hr>"
   ]
  },
  {
   "cell_type": "code",
   "execution_count": null,
   "metadata": {
    "id": "N6UcVERtUylw"
   },
   "outputs": [],
   "source": [
    "clf = setup(juice, target = 'Purchase')"
   ]
  },
  {
   "cell_type": "markdown",
   "metadata": {
    "id": "BDZ-EBw2Uylx"
   },
   "source": [
    "<div align='left'><font size=\"5\" color=\"#FF0000\">Compare Model</font></div>\n",
    "<hr>"
   ]
  },
  {
   "cell_type": "code",
   "execution_count": null,
   "metadata": {
    "id": "Jd4H7cdNUyly"
   },
   "outputs": [],
   "source": [
    "best = compare_models()"
   ]
  },
  {
   "cell_type": "code",
   "execution_count": null,
   "metadata": {
    "id": "joq7DgCe1XWO"
   },
   "outputs": [],
   "source": [
    "top3 = compare_models(n_select = 3)"
   ]
  },
  {
   "cell_type": "code",
   "execution_count": null,
   "metadata": {
    "id": "F4pC0puS9PIe"
   },
   "outputs": [],
   "source": [
    "top3"
   ]
  },
  {
   "cell_type": "code",
   "execution_count": null,
   "metadata": {
    "id": "Nfk2Q_NsUyl1"
   },
   "outputs": [],
   "source": [
    "lr = create_model('lr')"
   ]
  },
  {
   "cell_type": "markdown",
   "metadata": {
    "id": "3-x-vQgHUyl2"
   },
   "source": [
    "<div align='left'><font size=\"5\" color=\"#FF0000\">Interpretation</font></div>\n",
    "<hr>"
   ]
  },
  {
   "cell_type": "code",
   "execution_count": null,
   "metadata": {
    "id": "uSGIiuexUyl2"
   },
   "outputs": [],
   "source": [
    "plot_model(estimator = lr, plot = 'auc')"
   ]
  },
  {
   "cell_type": "code",
   "execution_count": null,
   "metadata": {
    "id": "siWjOg2KUyl4"
   },
   "outputs": [],
   "source": [
    "plot_model(estimator = lr, plot = 'feature')"
   ]
  },
  {
   "cell_type": "markdown",
   "metadata": {
    "id": "2dCPhwECUyl6"
   },
   "source": [
    "<div align='left'><font size=\"5\" color=\"#FF0000\">Ensembling</font></div>\n",
    "<hr>"
   ]
  },
  {
   "cell_type": "code",
   "execution_count": null,
   "metadata": {
    "id": "SjzfdEwyUyl6"
   },
   "outputs": [],
   "source": [
    "rd = create_model('ridge');      \n",
    "lgm  = create_model('lightgbm');            \n",
    "\n",
    "#blending 3 models\n",
    "blend = blend_models(estimator_list=[lgm,lr,rd])"
   ]
  },
  {
   "cell_type": "code",
   "execution_count": null,
   "metadata": {
    "id": "oI3QWRRDUyl7"
   },
   "outputs": [],
   "source": [
    "optimize_threshold(lr, true_negative = 500, false_negative = -2000)"
   ]
  },
  {
   "cell_type": "markdown",
   "metadata": {
    "id": "feVucSfBUyl9"
   },
   "source": [
    "<div align='left'><font size=\"5\" color=\"#FF0000\">Model Evaluation</font></div>\n",
    "<hr>"
   ]
  },
  {
   "cell_type": "code",
   "execution_count": null,
   "metadata": {
    "id": "uzdI-ac9Uyl-"
   },
   "outputs": [],
   "source": [
    "plot_model(estimator = blend, plot = 'confusion_matrix')"
   ]
  },
  {
   "cell_type": "code",
   "execution_count": null,
   "metadata": {
    "id": "px9TXCKYUymC"
   },
   "outputs": [],
   "source": [
    "pred = predict_model(blend)"
   ]
  },
  {
   "cell_type": "code",
   "execution_count": null,
   "metadata": {
    "id": "8MgyWBPH11Ow"
   },
   "outputs": [],
   "source": [
    "evaluate_model(lr)"
   ]
  },
  {
   "cell_type": "markdown",
   "metadata": {
    "id": "nNbOc4KeUymJ"
   },
   "source": [
    "# 3. Clustering"
   ]
  },
  {
   "cell_type": "code",
   "execution_count": null,
   "metadata": {
    "id": "VtJRpwxEUymK"
   },
   "outputs": [],
   "source": [
    "import pandas as pd\n",
    "from pycaret.clustering import *"
   ]
  },
  {
   "cell_type": "code",
   "execution_count": null,
   "metadata": {
    "id": "bGJu2eCTb9_b"
   },
   "outputs": [],
   "source": [
    "from pycaret.datasets import get_data\n",
    "jewellery = get_data('jewellery')"
   ]
  },
  {
   "cell_type": "markdown",
   "metadata": {
    "id": "hgAFSPy3UymK"
   },
   "source": [
    "<div align='left'><font size=\"5\" color=\"#FF0000\">Setup the model</font></div>\n",
    "<hr>"
   ]
  },
  {
   "cell_type": "code",
   "execution_count": null,
   "metadata": {
    "id": "yGVnP9tFUymM"
   },
   "outputs": [],
   "source": [
    "exp_clu = setup(jewellery)"
   ]
  },
  {
   "cell_type": "markdown",
   "metadata": {
    "id": "Y6NRi_pLUymN"
   },
   "source": [
    "<div align='left'><font size=\"5\" color=\"#FF0000\">K-means Clustering</font></div>\n",
    "<hr>"
   ]
  },
  {
   "cell_type": "code",
   "execution_count": null,
   "metadata": {
    "id": "430sIyZXUymO"
   },
   "outputs": [],
   "source": [
    "kmeans = create_model('kmeans')\n",
    "print(kmeans)\n"
   ]
  },
  {
   "cell_type": "markdown",
   "metadata": {
    "id": "TdgBGO_HUymP"
   },
   "source": [
    "<div align='left'><font size=\"5\" color=\"#FF0000\">Plot the model</font></div>\n",
    "<hr>"
   ]
  },
  {
   "cell_type": "code",
   "execution_count": null,
   "metadata": {
    "id": "9g91-xLVUymU"
   },
   "outputs": [],
   "source": [
    "plot_model(kmeans,plot = 'elbow')"
   ]
  },
  {
   "cell_type": "code",
   "execution_count": null,
   "metadata": {
    "id": "wrgTjsuiUymW"
   },
   "outputs": [],
   "source": [
    "plot_model(kmeans,plot = 'tsne')"
   ]
  },
  {
   "cell_type": "code",
   "execution_count": null,
   "metadata": {
    "id": "ipySvfW3UymZ"
   },
   "outputs": [],
   "source": [
    "plot_model(kmeans,plot = 'distribution')"
   ]
  },
  {
   "cell_type": "code",
   "execution_count": null,
   "metadata": {
    "id": "-8Qlgp362Z_z"
   },
   "outputs": [],
   "source": [
    "evaluate_model(kmeans)"
   ]
  },
  {
   "cell_type": "markdown",
   "metadata": {
    "id": "nxA_iaw_Uymb"
   },
   "source": [
    "<div align='left'><font size=\"5\" color=\"#FF0000\">Assign model</font></div>\n",
    "<hr>"
   ]
  },
  {
   "cell_type": "code",
   "execution_count": null,
   "metadata": {
    "id": "kWEyqnUCUymb"
   },
   "outputs": [],
   "source": [
    "kmeans_df = assign_model(kmeans)\n",
    "kmeans_df.head()"
   ]
  },
  {
   "cell_type": "markdown",
   "metadata": {
    "id": "wu0GAGo-Uymg"
   },
   "source": [
    "<div align='left'><font size=\"5\" color=\"#FF0000\">Hierarchical Clustering</font></div>\n",
    "<hr>"
   ]
  },
  {
   "cell_type": "code",
   "execution_count": null,
   "metadata": {
    "id": "iJ8KqVbSUymi"
   },
   "outputs": [],
   "source": [
    "hierarchical = create_model('hclust')"
   ]
  },
  {
   "cell_type": "markdown",
   "metadata": {
    "id": "rja6fjWoUymj"
   },
   "source": [
    "<div align='left'><font size=\"5\" color=\"#FF0000\">Plot the model</font></div>\n",
    "<hr>"
   ]
  },
  {
   "cell_type": "code",
   "execution_count": null,
   "metadata": {
    "id": "X_HMk0rFUymk"
   },
   "outputs": [],
   "source": [
    "plot_model(hierarchical,plot='cluster',label = True )"
   ]
  },
  {
   "cell_type": "markdown",
   "metadata": {
    "id": "85Ec7vKYUyml"
   },
   "source": [
    "<div align='left'><font size=\"5\" color=\"#FF0000\">Assign model</font></div>\n",
    "<hr>"
   ]
  },
  {
   "cell_type": "code",
   "execution_count": null,
   "metadata": {
    "id": "GSoOr4piUymm"
   },
   "outputs": [],
   "source": [
    "hierarchical_df = assign_model(hierarchical)\n",
    "hierarchical_df.head()"
   ]
  },
  {
   "cell_type": "markdown",
   "metadata": {
    "id": "6-HXQ_ZaUymo"
   },
   "source": [
    "<div align='left'><font size=\"6\" color=\"#FF0000\"><strong>4.Natural Language Processing</strong></font></div>\n",
    "<hr>\n",
    "\n",
    "<div align='left'><font size=\"3\" color=\"#000000\"> Here we use text message classification.  </font></div>\n",
    "<hr>\n",
    "\n",
    "> <img style=\"float: centre;\" src=\"https://miro.medium.com/max/1840/1*hsyCZOYoGrX6BJsj4Lgrhg.png\" width=\"450px\"/>"
   ]
  },
  {
   "cell_type": "code",
   "execution_count": null,
   "metadata": {
    "id": "oqT05WJp2fw5"
   },
   "outputs": [],
   "source": [
    "df = pd.read_csv(\"/content/drive/MyDrive/DSwithSoheil/AAPL.csv\")"
   ]
  },
  {
   "cell_type": "code",
   "execution_count": null,
   "metadata": {
    "id": "-U8CGFpa21gg"
   },
   "outputs": [],
   "source": [
    "df"
   ]
  },
  {
   "cell_type": "code",
   "execution_count": null,
   "metadata": {
    "id": "jE5cTzazUymo"
   },
   "outputs": [],
   "source": [
    "from pycaret.nlp import *\n",
    "import pandas as pd"
   ]
  },
  {
   "cell_type": "code",
   "execution_count": null,
   "metadata": {
    "id": "U5wpnX4kcdkn"
   },
   "outputs": [],
   "source": [
    "!wget \"https://www.dropbox.com/s/uhc2djflmd9dlal/SPAM.csv\""
   ]
  },
  {
   "cell_type": "code",
   "execution_count": null,
   "metadata": {
    "id": "a7nSCzj4Uymq"
   },
   "outputs": [],
   "source": [
    "spam = pd.read_csv('SPAM.csv')\n",
    "spam.head()"
   ]
  },
  {
   "cell_type": "markdown",
   "metadata": {
    "id": "pbC9gCeWUymq"
   },
   "source": [
    "<div align='left'><font size=\"5\" color=\"#FF0000\">Converting Text Data</font></div>\n",
    "<hr>"
   ]
  },
  {
   "cell_type": "code",
   "execution_count": null,
   "metadata": {
    "id": "2_eAmLVHUymr"
   },
   "outputs": [],
   "source": [
    "nlp = setup(data = spam, target = 'Message', session_id = 1)"
   ]
  },
  {
   "cell_type": "code",
   "execution_count": null,
   "metadata": {
    "id": "kWeW3G5JUymt"
   },
   "outputs": [],
   "source": [
    "lda = create_model('lda', multi_core = True)"
   ]
  },
  {
   "cell_type": "code",
   "execution_count": null,
   "metadata": {
    "id": "Rjk5t9N-Uymt"
   },
   "outputs": [],
   "source": [
    "lda_data = assign_model(lda)\n",
    "lda_data.head()"
   ]
  },
  {
   "cell_type": "code",
   "execution_count": null,
   "metadata": {
    "id": "Cmn1_paKUymu"
   },
   "outputs": [],
   "source": [
    "evaluate_model(lda)"
   ]
  },
  {
   "cell_type": "code",
   "execution_count": null,
   "metadata": {
    "id": "nzd1IIx9UynA"
   },
   "outputs": [],
   "source": [
    "from pycaret.classification import *"
   ]
  },
  {
   "cell_type": "markdown",
   "metadata": {
    "id": "h3l2iJ--UynC"
   },
   "source": [
    "<div align='left'><font size=\"5\" color=\"#FF0000\">Setup the model</font></div>\n",
    "<hr>"
   ]
  },
  {
   "cell_type": "code",
   "execution_count": null,
   "metadata": {
    "id": "2slmm68SUynD"
   },
   "outputs": [],
   "source": [
    "model = setup(data = lda_data, target = 'Category',ignore_features=['Message','Dominant_Topic','Perc_Dominant_Topic'])"
   ]
  },
  {
   "cell_type": "markdown",
   "metadata": {
    "id": "iboVuxkrUynE"
   },
   "source": [
    "<div align='left'><font size=\"5\" color=\"#FF0000\">Compare model</font></div>\n",
    "<hr>"
   ]
  },
  {
   "cell_type": "code",
   "execution_count": null,
   "metadata": {
    "id": "D3zCiUnpUynE"
   },
   "outputs": [],
   "source": [
    "compare_models()"
   ]
  }
 ],
 "metadata": {
  "accelerator": "GPU",
  "colab": {
   "collapsed_sections": [],
   "name": "PyCaret_Soheil.ipynb",
   "provenance": []
  },
  "kernelspec": {
   "display_name": "Python 3 (ipykernel)",
   "language": "python",
   "name": "python3"
  },
  "language_info": {
   "codemirror_mode": {
    "name": "ipython",
    "version": 3
   },
   "file_extension": ".py",
   "mimetype": "text/x-python",
   "name": "python",
   "nbconvert_exporter": "python",
   "pygments_lexer": "ipython3",
   "version": "3.10.7"
  }
 },
 "nbformat": 4,
 "nbformat_minor": 1
}
